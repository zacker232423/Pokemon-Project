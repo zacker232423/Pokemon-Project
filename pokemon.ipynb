{
 "cells": [
  {
   "cell_type": "code",
   "execution_count": 1,
   "metadata": {},
   "outputs": [],
   "source": [
    "import pandas as pd \n",
    "import matplotlib.pyplot as plt\n",
    "import numpy as np\n"
   ]
  },
  {
   "cell_type": "markdown",
   "metadata": {},
   "source": [
    "before doing anything with the data, lets discard the unncessart columns from the data set "
   ]
  },
  {
   "cell_type": "code",
   "execution_count": 2,
   "metadata": {},
   "outputs": [
    {
     "ename": "NameError",
     "evalue": "name 'pokemon_df' is not defined",
     "output_type": "error",
     "traceback": [
      "\u001b[1;31m---------------------------------------------------------------------------\u001b[0m",
      "\u001b[1;31mNameError\u001b[0m                                 Traceback (most recent call last)",
      "\u001b[1;32mc:\\Users\\zack\\Desktop\\pokemon-project\\pokemon.ipynb Cell 4\u001b[0m in \u001b[0;36m<cell line: 3>\u001b[1;34m()\u001b[0m\n\u001b[0;32m      <a href='vscode-notebook-cell:/c%3A/Users/zack/Desktop/pokemon-project/pokemon.ipynb#W3sZmlsZQ%3D%3D?line=0'>1</a>\u001b[0m columns_to_drop\u001b[39m=\u001b[39m [\u001b[39m'\u001b[39m\u001b[39mabilities\u001b[39m\u001b[39m'\u001b[39m,\u001b[39m'\u001b[39m\u001b[39mbase_egg_steps\u001b[39m\u001b[39m'\u001b[39m,\u001b[39m'\u001b[39m\u001b[39magainst_bug\u001b[39m\u001b[39m'\u001b[39m,\u001b[39m'\u001b[39m\u001b[39magainst_dark\u001b[39m\u001b[39m'\u001b[39m,\u001b[39m'\u001b[39m\u001b[39magainst_dragon\u001b[39m\u001b[39m'\u001b[39m,\u001b[39m'\u001b[39m\u001b[39magainst_electric\u001b[39m\u001b[39m'\u001b[39m,\u001b[39m'\u001b[39m\u001b[39magainst_fairy\u001b[39m\u001b[39m'\u001b[39m,\u001b[39m'\u001b[39m\u001b[39magainst_fight\u001b[39m\u001b[39m'\u001b[39m,\u001b[39m'\u001b[39m\u001b[39magainst_fire\u001b[39m\u001b[39m'\u001b[39m,\u001b[39m'\u001b[39m\u001b[39magainst_flying\u001b[39m\u001b[39m'\u001b[39m,\u001b[39m'\u001b[39m\u001b[39magainst_ghost\u001b[39m\u001b[39m'\u001b[39m\n\u001b[0;32m      <a href='vscode-notebook-cell:/c%3A/Users/zack/Desktop/pokemon-project/pokemon.ipynb#W3sZmlsZQ%3D%3D?line=1'>2</a>\u001b[0m ,\u001b[39m'\u001b[39m\u001b[39magainst_grass\u001b[39m\u001b[39m'\u001b[39m,\u001b[39m'\u001b[39m\u001b[39magainst_ground\u001b[39m\u001b[39m'\u001b[39m,\u001b[39m'\u001b[39m\u001b[39magainst_ice\u001b[39m\u001b[39m'\u001b[39m,\u001b[39m'\u001b[39m\u001b[39magainst_normal\u001b[39m\u001b[39m'\u001b[39m,\u001b[39m'\u001b[39m\u001b[39magainst_poison\u001b[39m\u001b[39m'\u001b[39m,\u001b[39m'\u001b[39m\u001b[39magainst_psychic\u001b[39m\u001b[39m'\u001b[39m,\u001b[39m'\u001b[39m\u001b[39magainst_rock\u001b[39m\u001b[39m'\u001b[39m,\u001b[39m'\u001b[39m\u001b[39magainst_steel\u001b[39m\u001b[39m'\u001b[39m,\u001b[39m'\u001b[39m\u001b[39magainst_water\u001b[39m\u001b[39m'\u001b[39m,\u001b[39m'\u001b[39m\u001b[39mclassfication\u001b[39m\u001b[39m'\u001b[39m]\n\u001b[1;32m----> <a href='vscode-notebook-cell:/c%3A/Users/zack/Desktop/pokemon-project/pokemon.ipynb#W3sZmlsZQ%3D%3D?line=2'>3</a>\u001b[0m pokemon_df\u001b[39m.\u001b[39mdrop(columns_to_drop, axis\u001b[39m=\u001b[39m \u001b[39m1\u001b[39m , inplace\u001b[39m=\u001b[39m \u001b[39mTrue\u001b[39;00m)\n\u001b[0;32m      <a href='vscode-notebook-cell:/c%3A/Users/zack/Desktop/pokemon-project/pokemon.ipynb#W3sZmlsZQ%3D%3D?line=3'>4</a>\u001b[0m pokemon_df\u001b[39m.\u001b[39mhead(\u001b[39m10\u001b[39m)\n",
      "\u001b[1;31mNameError\u001b[0m: name 'pokemon_df' is not defined"
     ]
    }
   ],
   "source": [
    "\n",
    "columns_to_drop= ['abilities','base_egg_steps','against_bug','against_dark','against_dragon','against_electric','against_fairy','against_fight','against_fire','against_flying','against_ghost'\n",
    ",'against_grass','against_ground','against_ice','against_normal','against_poison','against_psychic','against_rock','against_steel','against_water','classfication']\n",
    "pokemon_df.drop(columns_to_drop, axis= 1 , inplace= True)\n",
    "pokemon_df.head(10)"
   ]
  }
 ],
 "metadata": {
  "kernelspec": {
   "display_name": "Python 3.9.12 ('base')",
   "language": "python",
   "name": "python3"
  },
  "language_info": {
   "codemirror_mode": {
    "name": "ipython",
    "version": 3
   },
   "file_extension": ".py",
   "mimetype": "text/x-python",
   "name": "python",
   "nbconvert_exporter": "python",
   "pygments_lexer": "ipython3",
   "version": "3.9.12"
  },
  "orig_nbformat": 4,
  "vscode": {
   "interpreter": {
    "hash": "c4a2c0adc0c10d4059e96f9862b87c4a44707aacb77761399b094855afdf70db"
   }
  }
 },
 "nbformat": 4,
 "nbformat_minor": 2
}
